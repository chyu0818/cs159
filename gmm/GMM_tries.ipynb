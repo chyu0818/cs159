{
 "cells": [
  {
   "cell_type": "code",
   "execution_count": 1,
   "metadata": {},
   "outputs": [],
   "source": [
    "import numpy as np\n",
    "import sklearn\n",
    "import pickle"
   ]
  },
  {
   "cell_type": "code",
   "execution_count": 2,
   "metadata": {},
   "outputs": [],
   "source": [
    "from sklearn.mixture import GaussianMixture"
   ]
  },
  {
   "cell_type": "code",
   "execution_count": 3,
   "metadata": {},
   "outputs": [],
   "source": [
    "gmm = GaussianMixture(n_components=5)"
   ]
  },
  {
   "cell_type": "code",
   "execution_count": 7,
   "metadata": {},
   "outputs": [],
   "source": [
    "X = []\n",
    "y = []\n",
    "with open(\"layers300ish.txt\") as f:\n",
    "    newlines = f.readlines()\n",
    "    for x in newlines:\n",
    "        if x == \"\\n\":\n",
    "            continue\n",
    "        \n",
    "        real_thing = x.split(\"]\")\n",
    "#         print(real_thing)\n",
    "        \n",
    "        hehe = real_thing[0].split(\" \")\n",
    "        emotion = hehe[len(hehe) - 1]\n",
    "#         print(emotion)\n",
    "        \n",
    "        arr = (real_thing[0].replace(emotion, \"\") + \"]\").replace(\"[\", \"\").replace(\"]\", \"\")\n",
    "#         print(arr)\n",
    "        \n",
    "        new_arr = np.array(arr.split(\",\"))\n",
    "#         print(len(new_arr))\n",
    "        \n",
    "        final_arr = []\n",
    "        for temp_str in new_arr:\n",
    "            if (temp_str != \" \"):\n",
    "#                 print(temp_str.replace(\",\", \"\"))\n",
    "                final_arr.append(float(temp_str.replace(\",\", \"\")))\n",
    "        \n",
    "        X.append(final_arr)\n",
    "        y.append(emotion)\n",
    "\n",
    "def save_model(file_name, model):\n",
    "    pkl_filename = file_name  \n",
    "    with open(file_name, 'wb') as file:  \n",
    "        pickle.dump(model, file)\n",
    "        \n",
    "def get_model(file_name):\n",
    "    with open(file_name, 'rb') as file:\n",
    "        temp_model = pickle.load(file)\n",
    "        return temp_model"
   ]
  },
  {
   "cell_type": "code",
   "execution_count": 8,
   "metadata": {},
   "outputs": [
    {
     "data": {
      "text/plain": [
       "368"
      ]
     },
     "execution_count": 8,
     "metadata": {},
     "output_type": "execute_result"
    }
   ],
   "source": [
    "len(X)"
   ]
  },
  {
   "cell_type": "code",
   "execution_count": 9,
   "metadata": {},
   "outputs": [
    {
     "data": {
      "text/plain": [
       "368"
      ]
     },
     "execution_count": 9,
     "metadata": {},
     "output_type": "execute_result"
    }
   ],
   "source": [
    "len(y)"
   ]
  },
  {
   "cell_type": "code",
   "execution_count": 10,
   "metadata": {},
   "outputs": [
    {
     "data": {
      "text/plain": [
       "'joy'"
      ]
     },
     "execution_count": 10,
     "metadata": {},
     "output_type": "execute_result"
    }
   ],
   "source": [
    "y[0]"
   ]
  },
  {
   "cell_type": "code",
   "execution_count": 47,
   "metadata": {},
   "outputs": [],
   "source": [
    "from sklearn.preprocessing import OneHotEncoder"
   ]
  },
  {
   "cell_type": "code",
   "execution_count": 48,
   "metadata": {},
   "outputs": [],
   "source": [
    "enc = OneHotEncoder()"
   ]
  },
  {
   "cell_type": "code",
   "execution_count": 50,
   "metadata": {},
   "outputs": [
    {
     "data": {
      "text/plain": [
       "OneHotEncoder(categorical_features=None, categories=None,\n",
       "       dtype=<class 'numpy.float64'>, handle_unknown='error',\n",
       "       n_values=None, sparse=True)"
      ]
     },
     "execution_count": 50,
     "metadata": {},
     "output_type": "execute_result"
    }
   ],
   "source": [
    "temp_y = np.array(y)\n",
    "enc.fit(temp_y.reshape(-1, 1))"
   ]
  },
  {
   "cell_type": "code",
   "execution_count": 54,
   "metadata": {},
   "outputs": [],
   "source": [
    "enc.categories"
   ]
  },
  {
   "cell_type": "markdown",
   "metadata": {},
   "source": [
    "# GMM WITHOUT TRAINING"
   ]
  },
  {
   "cell_type": "code",
   "execution_count": 55,
   "metadata": {},
   "outputs": [
    {
     "data": {
      "text/plain": [
       "GaussianMixture(covariance_type='full', init_params='kmeans', max_iter=100,\n",
       "        means_init=None, n_components=5, n_init=1, precisions_init=None,\n",
       "        random_state=None, reg_covar=1e-06, tol=0.001, verbose=0,\n",
       "        verbose_interval=10, warm_start=False, weights_init=None)"
      ]
     },
     "execution_count": 55,
     "metadata": {},
     "output_type": "execute_result"
    }
   ],
   "source": [
    "gmm.fit(X)"
   ]
  },
  {
   "cell_type": "code",
   "execution_count": 89,
   "metadata": {},
   "outputs": [
    {
     "data": {
      "text/plain": [
       "2"
      ]
     },
     "execution_count": 89,
     "metadata": {},
     "output_type": "execute_result"
    }
   ],
   "source": [
    "gmm.sample(1)[1][0]"
   ]
  },
  {
   "cell_type": "markdown",
   "metadata": {},
   "source": [
    "# GMM with training"
   ]
  },
  {
   "cell_type": "code",
   "execution_count": 58,
   "metadata": {},
   "outputs": [],
   "source": []
  },
  {
   "cell_type": "markdown",
   "metadata": {},
   "source": [
    "# testing loading in"
   ]
  },
  {
   "cell_type": "code",
   "execution_count": 84,
   "metadata": {},
   "outputs": [],
   "source": [
    "save_model(\"unsupervised.pkl\", gmm)"
   ]
  },
  {
   "cell_type": "code",
   "execution_count": 82,
   "metadata": {},
   "outputs": [],
   "source": [
    "model = get_model(\"testing.pkl\")"
   ]
  },
  {
   "cell_type": "code",
   "execution_count": 83,
   "metadata": {},
   "outputs": [
    {
     "data": {
      "text/plain": [
       "(array([[ 7.18904122e-03,  2.09311311e-01,  4.72360262e-03,\n",
       "          4.95605891e-04,  3.89045425e-03,  5.19802829e-03,\n",
       "          6.60169926e-03,  7.09145319e-03,  3.42538052e-03,\n",
       "          3.09335672e-03,  9.26133566e-03,  4.84858914e-03,\n",
       "          2.35598395e-03,  1.04044032e-02,  6.67820764e-03,\n",
       "          6.95450092e-03,  3.05572477e-03,  3.91111074e-03,\n",
       "          2.74715037e-03,  6.47462083e-03,  5.79518879e-03,\n",
       "          5.23099707e-03,  6.19646613e-03,  7.70915270e-03,\n",
       "          3.33781443e-03,  8.41726066e-03,  5.37513595e-03,\n",
       "          2.81389225e-03,  2.29354895e-03,  5.71868297e-03,\n",
       "          8.39724346e-03,  3.73898233e-03,  4.40324051e-03,\n",
       "          2.90992307e-03,  4.97349052e-03,  3.04531269e-03,\n",
       "          1.67858561e-02,  3.81138925e-03,  6.27847486e-03,\n",
       "          1.16300773e-02,  3.75389069e-03,  6.06846447e-03,\n",
       "         -1.41453403e-04,  6.48724688e-03, -6.39979958e-04,\n",
       "          2.04416179e-03,  3.77870711e-03,  1.10433590e-02,\n",
       "          9.51272036e-03,  4.72625841e-03,  8.39792760e-03,\n",
       "          3.29809594e-03,  4.41324438e-03,  3.91019762e-03,\n",
       "          1.05420901e-03,  8.95692692e-03,  9.47012432e-02,\n",
       "          1.67196989e-02,  1.00782440e-02,  3.05584727e-02,\n",
       "          4.53154820e-02,  1.19836366e-02, -7.41280069e-03,\n",
       "          3.48010250e-03, -1.83236854e-03,  4.80765148e-03,\n",
       "         -6.63620880e-04,  2.67350586e-02,  2.85624954e-02,\n",
       "          2.03299898e-02,  5.79046687e-02,  7.06365603e-03,\n",
       "          6.48823505e-03,  1.65561972e-02,  7.75644591e-04,\n",
       "          8.48188045e-02,  2.31242589e-02,  4.17152087e-03,\n",
       "         -6.56667156e-03,  5.54072459e-03,  3.53465663e-03,\n",
       "          4.87308564e-03,  3.82981237e-03,  5.32565184e-03,\n",
       "          9.24468975e-03]]), array([4]))"
      ]
     },
     "execution_count": 83,
     "metadata": {},
     "output_type": "execute_result"
    }
   ],
   "source": [
    "model.sample()"
   ]
  },
  {
   "cell_type": "code",
   "execution_count": null,
   "metadata": {},
   "outputs": [],
   "source": []
  }
 ],
 "metadata": {
  "kernelspec": {
   "display_name": "Python 3",
   "language": "python",
   "name": "python3"
  },
  "language_info": {
   "codemirror_mode": {
    "name": "ipython",
    "version": 3
   },
   "file_extension": ".py",
   "mimetype": "text/x-python",
   "name": "python",
   "nbconvert_exporter": "python",
   "pygments_lexer": "ipython3",
   "version": "3.7.3"
  }
 },
 "nbformat": 4,
 "nbformat_minor": 2
}
