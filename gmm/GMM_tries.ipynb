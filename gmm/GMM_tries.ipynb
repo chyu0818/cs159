{
 "cells": [
  {
   "cell_type": "code",
   "execution_count": 1,
   "metadata": {},
   "outputs": [],
   "source": [
    "import numpy as np\n",
    "import sklearn\n",
    "import pickle"
   ]
  },
  {
   "cell_type": "code",
   "execution_count": 2,
   "metadata": {},
   "outputs": [],
   "source": [
    "from sklearn.mixture import GaussianMixture"
   ]
  },
  {
   "cell_type": "code",
   "execution_count": 3,
   "metadata": {},
   "outputs": [],
   "source": [
    "gmm = GaussianMixture(n_components=5)"
   ]
  },
  {
   "cell_type": "code",
   "execution_count": 40,
   "metadata": {},
   "outputs": [],
   "source": [
    "X = []\n",
    "y = []\n",
    "with open(\"layers300ish.txt\") as f:\n",
    "    newlines = f.readlines()\n",
    "    for x in newlines:\n",
    "        if x == \"\\n\":\n",
    "            continue\n",
    "        \n",
    "        real_thing = x.split(\"]\")\n",
    "#         print(real_thing)\n",
    "        \n",
    "        hehe = real_thing[0].split(\" \")\n",
    "        emotion = hehe[len(hehe) - 1]\n",
    "#         print(emotion)\n",
    "        \n",
    "        arr = (real_thing[0].replace(emotion, \"\") + \"]\").replace(\"[\", \"\").replace(\"]\", \"\")\n",
    "#         print(arr)\n",
    "        \n",
    "        new_arr = np.array(arr.split(\",\"))\n",
    "#         print(len(new_arr))\n",
    "        \n",
    "        final_arr = []\n",
    "        for temp_str in new_arr:\n",
    "            if (temp_str != \" \"):\n",
    "#                 print(temp_str.replace(\",\", \"\"))\n",
    "                final_arr.append(float(temp_str.replace(\",\", \"\")))\n",
    "        \n",
    "        X.append(final_arr)\n",
    "        y.append(emotion)\n",
    "\n",
    "   "
   ]
  },
  {
   "cell_type": "code",
   "execution_count": 41,
   "metadata": {},
   "outputs": [
    {
     "data": {
      "text/plain": [
       "368"
      ]
     },
     "execution_count": 41,
     "metadata": {},
     "output_type": "execute_result"
    }
   ],
   "source": [
    "len(X)"
   ]
  },
  {
   "cell_type": "code",
   "execution_count": 42,
   "metadata": {},
   "outputs": [
    {
     "data": {
      "text/plain": [
       "368"
      ]
     },
     "execution_count": 42,
     "metadata": {},
     "output_type": "execute_result"
    }
   ],
   "source": [
    "len(y)"
   ]
  },
  {
   "cell_type": "code",
   "execution_count": 43,
   "metadata": {},
   "outputs": [
    {
     "data": {
      "text/plain": [
       "'joy'"
      ]
     },
     "execution_count": 43,
     "metadata": {},
     "output_type": "execute_result"
    }
   ],
   "source": [
    "y[0]"
   ]
  },
  {
   "cell_type": "code",
   "execution_count": 47,
   "metadata": {},
   "outputs": [],
   "source": [
    "from sklearn.preprocessing import OneHotEncoder"
   ]
  },
  {
   "cell_type": "code",
   "execution_count": 48,
   "metadata": {},
   "outputs": [],
   "source": [
    "enc = OneHotEncoder()"
   ]
  },
  {
   "cell_type": "code",
   "execution_count": 50,
   "metadata": {},
   "outputs": [
    {
     "data": {
      "text/plain": [
       "OneHotEncoder(categorical_features=None, categories=None,\n",
       "       dtype=<class 'numpy.float64'>, handle_unknown='error',\n",
       "       n_values=None, sparse=True)"
      ]
     },
     "execution_count": 50,
     "metadata": {},
     "output_type": "execute_result"
    }
   ],
   "source": [
    "temp_y = np.array(y)\n",
    "enc.fit(temp_y.reshape(-1, 1))"
   ]
  },
  {
   "cell_type": "code",
   "execution_count": 54,
   "metadata": {},
   "outputs": [],
   "source": [
    "enc.categories"
   ]
  },
  {
   "cell_type": "markdown",
   "metadata": {},
   "source": [
    "# GMM WITHOUT TRAINING"
   ]
  },
  {
   "cell_type": "code",
   "execution_count": 55,
   "metadata": {},
   "outputs": [
    {
     "data": {
      "text/plain": [
       "GaussianMixture(covariance_type='full', init_params='kmeans', max_iter=100,\n",
       "        means_init=None, n_components=5, n_init=1, precisions_init=None,\n",
       "        random_state=None, reg_covar=1e-06, tol=0.001, verbose=0,\n",
       "        verbose_interval=10, warm_start=False, weights_init=None)"
      ]
     },
     "execution_count": 55,
     "metadata": {},
     "output_type": "execute_result"
    }
   ],
   "source": [
    "gmm.fit(X)"
   ]
  },
  {
   "cell_type": "code",
   "execution_count": 62,
   "metadata": {},
   "outputs": [
    {
     "data": {
      "text/plain": [
       "(array([[ 1.47266997e-02,  2.23539761e-02,  1.06112588e-02,\n",
       "          8.36226871e-03,  1.50672847e-02,  1.17741005e-02,\n",
       "          1.28260812e-02,  8.12541058e-03,  8.91489510e-03,\n",
       "          1.12683367e-02,  1.47218376e-02,  1.32545939e-02,\n",
       "          1.06842444e-02,  1.68724318e-02,  9.39570066e-03,\n",
       "          1.04336880e-02,  6.63744817e-03,  5.42773488e-03,\n",
       "          9.06451434e-03,  1.09677820e-02,  7.77521906e-03,\n",
       "          1.08665490e-02,  8.86553414e-03,  8.27986356e-03,\n",
       "          1.32578240e-02,  1.11595226e-02,  9.16261275e-03,\n",
       "          1.14498626e-02,  1.79384791e-02,  1.34110785e-02,\n",
       "          5.80885839e-03,  1.17245551e-02,  1.20135540e-02,\n",
       "          1.11971722e-02,  7.15529588e-03,  1.02774923e-02,\n",
       "          1.15782760e-02,  5.80173864e-03,  1.21170952e-02,\n",
       "          7.14831476e-03,  9.07215425e-03,  6.97788141e-03,\n",
       "          8.13091574e-03,  1.22227366e-02,  1.05937458e-02,\n",
       "          9.46771659e-03,  1.62192903e-02,  9.75329122e-03,\n",
       "          1.60346727e-02,  8.94263365e-03,  1.17145315e-02,\n",
       "          1.04876794e-02,  1.52401562e-02,  1.57882701e-02,\n",
       "          1.26843312e-02,  1.14123487e-02,  8.03843563e-03,\n",
       "          5.37494267e-03,  1.51402012e-02,  1.57141282e-02,\n",
       "          8.21314423e-03,  1.38177980e-02,  9.52245057e-03,\n",
       "          6.35110662e-03,  1.68493114e-02,  1.31617810e-02,\n",
       "          3.83966715e-03,  1.53864908e-02,  1.58574117e-02,\n",
       "          1.83923911e-02,  1.53055675e-02,  2.08569813e-02,\n",
       "          1.70148995e-02,  1.40868750e-02,  1.18394292e-02,\n",
       "          1.32588638e-02,  1.80199187e-02,  1.07001500e-02,\n",
       "          1.18835579e-02,  1.27164128e-02,  1.37667267e-02,\n",
       "          7.04461139e-03,  1.17518992e-02,  7.31211708e-03,\n",
       "          1.19355594e-02],\n",
       "        [ 5.74297600e-03,  6.01072667e-01,  1.78814357e-03,\n",
       "         -2.05838973e-04,  2.15953705e-03,  2.98256706e-03,\n",
       "          1.37911410e-03,  1.91977269e-03,  1.43719061e-03,\n",
       "          1.05837605e-04,  2.38824412e-04,  2.73133965e-03,\n",
       "          3.64304657e-03,  5.50615003e-03, -1.30210097e-04,\n",
       "          3.61202795e-03,  4.14581806e-03,  1.39417559e-03,\n",
       "          2.17091298e-03,  3.08769605e-03,  1.81372951e-03,\n",
       "          2.42368847e-03,  2.45928902e-03,  4.53817762e-03,\n",
       "          3.48203873e-03,  5.94366008e-04,  2.08030077e-03,\n",
       "          2.21896350e-03,  3.96972549e-03,  1.79750770e-03,\n",
       "          4.55802199e-03, -3.88335757e-04, -1.25241689e-03,\n",
       "          1.92149328e-03,  3.15263644e-04,  1.00087155e-03,\n",
       "          6.94784572e-03,  1.31360960e-03,  2.26424544e-03,\n",
       "          4.78268543e-04,  1.65957144e-03,  6.40229821e-03,\n",
       "          5.90518583e-04,  1.80739326e-03,  1.96798345e-03,\n",
       "          2.13284635e-03,  1.92486979e-03,  1.49396112e-03,\n",
       "          1.76570793e-03,  9.84888938e-04,  1.80184415e-03,\n",
       "          1.00418991e-03,  1.72120096e-03,  5.25771052e-03,\n",
       "          2.45714943e-03,  2.85405656e-03,  5.79839138e-02,\n",
       "          1.89341533e-03,  5.13222709e-03,  2.21267177e-03,\n",
       "          4.63239304e-02,  2.06205657e-03,  4.16247309e-05,\n",
       "         -2.43576366e-03,  3.16977575e-03,  5.58812814e-03,\n",
       "          3.91581536e-03,  5.02887142e-03,  1.20686639e-02,\n",
       "          1.98290881e-02,  1.12080291e-02,  4.55837617e-03,\n",
       "          2.09418635e-03,  1.65983759e-02,  5.60915824e-03,\n",
       "          4.11400794e-02,  3.67937369e-03,  4.12980410e-03,\n",
       "          4.02693912e-03,  2.10091563e-03,  7.32873033e-03,\n",
       "          2.15666804e-03,  4.14007863e-03,  1.59634402e-03,\n",
       "          5.55745414e-03]]), array([1, 3]))"
      ]
     },
     "execution_count": 62,
     "metadata": {},
     "output_type": "execute_result"
    }
   ],
   "source": [
    "gmm.sample(2)"
   ]
  },
  {
   "cell_type": "code",
   "execution_count": 80,
   "metadata": {},
   "outputs": [],
   "source": [
    "def save_model(file_name, model):\n",
    "    pkl_filename = file_name  \n",
    "    with open(file_name, 'wb') as file:  \n",
    "        pickle.dump(model, file)\n",
    "        \n",
    "def get_model(file_name):\n",
    "    with open(file_name, 'rb') as file:\n",
    "        temp_model = pickle.load(file)\n",
    "        return temp_model"
   ]
  },
  {
   "cell_type": "markdown",
   "metadata": {},
   "source": [
    "# GMM with training"
   ]
  },
  {
   "cell_type": "code",
   "execution_count": 58,
   "metadata": {},
   "outputs": [],
   "source": []
  },
  {
   "cell_type": "markdown",
   "metadata": {},
   "source": [
    "# testing loading in"
   ]
  },
  {
   "cell_type": "code",
   "execution_count": 84,
   "metadata": {},
   "outputs": [],
   "source": [
    "save_model(\"unsupervised.pkl\", gmm)"
   ]
  },
  {
   "cell_type": "code",
   "execution_count": 82,
   "metadata": {},
   "outputs": [],
   "source": [
    "model = get_model(\"testing.pkl\")"
   ]
  },
  {
   "cell_type": "code",
   "execution_count": 83,
   "metadata": {},
   "outputs": [
    {
     "data": {
      "text/plain": [
       "(array([[ 7.18904122e-03,  2.09311311e-01,  4.72360262e-03,\n",
       "          4.95605891e-04,  3.89045425e-03,  5.19802829e-03,\n",
       "          6.60169926e-03,  7.09145319e-03,  3.42538052e-03,\n",
       "          3.09335672e-03,  9.26133566e-03,  4.84858914e-03,\n",
       "          2.35598395e-03,  1.04044032e-02,  6.67820764e-03,\n",
       "          6.95450092e-03,  3.05572477e-03,  3.91111074e-03,\n",
       "          2.74715037e-03,  6.47462083e-03,  5.79518879e-03,\n",
       "          5.23099707e-03,  6.19646613e-03,  7.70915270e-03,\n",
       "          3.33781443e-03,  8.41726066e-03,  5.37513595e-03,\n",
       "          2.81389225e-03,  2.29354895e-03,  5.71868297e-03,\n",
       "          8.39724346e-03,  3.73898233e-03,  4.40324051e-03,\n",
       "          2.90992307e-03,  4.97349052e-03,  3.04531269e-03,\n",
       "          1.67858561e-02,  3.81138925e-03,  6.27847486e-03,\n",
       "          1.16300773e-02,  3.75389069e-03,  6.06846447e-03,\n",
       "         -1.41453403e-04,  6.48724688e-03, -6.39979958e-04,\n",
       "          2.04416179e-03,  3.77870711e-03,  1.10433590e-02,\n",
       "          9.51272036e-03,  4.72625841e-03,  8.39792760e-03,\n",
       "          3.29809594e-03,  4.41324438e-03,  3.91019762e-03,\n",
       "          1.05420901e-03,  8.95692692e-03,  9.47012432e-02,\n",
       "          1.67196989e-02,  1.00782440e-02,  3.05584727e-02,\n",
       "          4.53154820e-02,  1.19836366e-02, -7.41280069e-03,\n",
       "          3.48010250e-03, -1.83236854e-03,  4.80765148e-03,\n",
       "         -6.63620880e-04,  2.67350586e-02,  2.85624954e-02,\n",
       "          2.03299898e-02,  5.79046687e-02,  7.06365603e-03,\n",
       "          6.48823505e-03,  1.65561972e-02,  7.75644591e-04,\n",
       "          8.48188045e-02,  2.31242589e-02,  4.17152087e-03,\n",
       "         -6.56667156e-03,  5.54072459e-03,  3.53465663e-03,\n",
       "          4.87308564e-03,  3.82981237e-03,  5.32565184e-03,\n",
       "          9.24468975e-03]]), array([4]))"
      ]
     },
     "execution_count": 83,
     "metadata": {},
     "output_type": "execute_result"
    }
   ],
   "source": [
    "model.sample()"
   ]
  },
  {
   "cell_type": "code",
   "execution_count": null,
   "metadata": {},
   "outputs": [],
   "source": []
  }
 ],
 "metadata": {
  "kernelspec": {
   "display_name": "Python 3",
   "language": "python",
   "name": "python3"
  },
  "language_info": {
   "codemirror_mode": {
    "name": "ipython",
    "version": 3
   },
   "file_extension": ".py",
   "mimetype": "text/x-python",
   "name": "python",
   "nbconvert_exporter": "python",
   "pygments_lexer": "ipython3",
   "version": "3.7.3"
  }
 },
 "nbformat": 4,
 "nbformat_minor": 2
}
