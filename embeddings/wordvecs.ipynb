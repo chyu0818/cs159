{
 "cells": [
  {
   "cell_type": "code",
   "execution_count": 6,
   "metadata": {},
   "outputs": [],
   "source": [
    "import numpy as np\n",
    "import spacy\n",
    "from sklearn.decomposition import PCA\n",
    "import matplotlib.pyplot as plt\n",
    "import sys\n",
    "import pandas as pd"
   ]
  },
  {
   "cell_type": "code",
   "execution_count": 27,
   "metadata": {},
   "outputs": [],
   "source": [
    "f = open('../DATA1.txt', encoding = \"ISO-8859-1\")\n",
    "x = f.readlines()\n",
    "f.close()"
   ]
  },
  {
   "cell_type": "code",
   "execution_count": 51,
   "metadata": {},
   "outputs": [],
   "source": [
    "emotion = []\n",
    "sentences = []\n",
    "\n",
    "currIdx = 0\n",
    "for line in x:\n",
    "    slashIdx = line.find('\\t')\n",
    "    if slashIdx != -1:\n",
    "        emotion.append(line[0:slashIdx])\n",
    "        sentences.append(line[slashIdx+2:len(line)-2])\n",
    "        \n",
    "    else:\n",
    "        sentences[currIdx] += ' ' + line[0:len(line)-2]\n",
    "        if line.find('\"') != -1:\n",
    "            currIdx += 1"
   ]
  },
  {
   "cell_type": "code",
   "execution_count": 53,
   "metadata": {},
   "outputs": [],
   "source": [
    "nlp = spacy.load(\"en\")\n",
    "\n",
    "means = []\n",
    "for i in range(len(sentences)):\n",
    "    sentences_tokens = nlp(sentences[i])\n",
    "    sentences_vectors = np.vstack([word.vector for word in sentences_tokens if word.has_vector])\n",
    "    means.append(np.mean(sentences_vectors, axis=0))\n",
    "\n",
    "    f = open(\"word_vec.txt\", \"a\")\n",
    "    f.write('[')\n",
    "    for j in range(len(means[i])):\n",
    "        f.write(str(means[i][j]) + ', ')\n",
    "    f.write(emotion[i] + '],\\n')\n",
    "    f.close()"
   ]
  },
  {
   "cell_type": "code",
   "execution_count": null,
   "metadata": {},
   "outputs": [],
   "source": []
  },
  {
   "cell_type": "code",
   "execution_count": null,
   "metadata": {},
   "outputs": [],
   "source": []
  }
 ],
 "metadata": {
  "kernelspec": {
   "display_name": "Python 3",
   "language": "python",
   "name": "python3"
  },
  "language_info": {
   "codemirror_mode": {
    "name": "ipython",
    "version": 3
   },
   "file_extension": ".py",
   "mimetype": "text/x-python",
   "name": "python",
   "nbconvert_exporter": "python",
   "pygments_lexer": "ipython3",
   "version": "3.6.8"
  }
 },
 "nbformat": 4,
 "nbformat_minor": 2
}
