{
 "cells": [
  {
   "cell_type": "code",
   "execution_count": 1,
   "metadata": {},
   "outputs": [],
   "source": [
    "import numpy as np\n",
    "import spacy\n",
    "from sklearn.decomposition import PCA\n",
    "import matplotlib.pyplot as plt\n",
    "import sys\n",
    "import nltk\n",
    "from nltk.corpus import stopwords\n",
    "from sklearn.feature_extraction.text import TfidfVectorizer"
   ]
  },
  {
   "cell_type": "code",
   "execution_count": 2,
   "metadata": {},
   "outputs": [],
   "source": [
    "# Read data.\n",
    "f = open('../DATA1.txt', encoding = \"ISO-8859-1\")\n",
    "x = f.readlines()\n",
    "f.close()"
   ]
  },
  {
   "cell_type": "code",
   "execution_count": 3,
   "metadata": {},
   "outputs": [],
   "source": [
    "# Parse data into emotions and sentences.\n",
    "emotion = []\n",
    "sentences = []\n",
    "\n",
    "currIdx = 0\n",
    "for line in x:\n",
    "    # New entries have a tab \\t\n",
    "    slashIdx = line.find('\\t')\n",
    "    if slashIdx != -1:\n",
    "        emotion.append(line[0:slashIdx])\n",
    "        sentences.append(line[slashIdx+2:len(line)-2])\n",
    "    else:\n",
    "        sentences[currIdx] += ' ' + line[0:len(line)-2]\n",
    "        if line.find('\"') != -1:\n",
    "            currIdx += 1"
   ]
  },
  {
   "cell_type": "code",
   "execution_count": 45,
   "metadata": {},
   "outputs": [],
   "source": [
    "# Create documents for tf-idf, sentences by emotions.\n",
    "# anger 0\n",
    "# disgust 1096\n",
    "# fear 2192\n",
    "# guilt 3287\n",
    "# joy 4380\n",
    "# sadness 5474\n",
    "# shame 6570\n",
    "sentence_emo = ['','','','','','','']\n",
    "for i in range(len(sentences)):\n",
    "    if emotion[i] == 'anger':\n",
    "        sentence_emo[0] += sentences[i] + ' '\n",
    "    elif emotion[i] == 'disgust':\n",
    "        sentence_emo[1] += sentences[i] + ' '\n",
    "    elif emotion[i] == 'fear':\n",
    "        sentence_emo[2] += sentences[i] + ' '\n",
    "    elif emotion[i] == 'guilt':\n",
    "        sentence_emo[3] += sentences[i] + ' '\n",
    "    elif emotion[i] == 'joy':\n",
    "        sentence_emo[4] += sentences[i] + ' '\n",
    "    elif emotion[i] == 'sadness':\n",
    "        sentence_emo[5] += sentences[i] + ' '\n",
    "    elif emotion[i] == 'shame':\n",
    "        sentence_emo[6] += sentences[i] + ' '\n",
    "    else:\n",
    "        print('error', emotion[i])"
   ]
  },
  {
   "cell_type": "code",
   "execution_count": 46,
   "metadata": {},
   "outputs": [],
   "source": [
    "# Initialize tf-idf vectorizer.\n",
    "tf = TfidfVectorizer(input='sentences_str6.txt', analyzer='word', stop_words = 'english', sublinear_tf=True)\n",
    "tfidf_matrix =  tf.fit_transform(sentence_emo)\n",
    "feature_names = tf.get_feature_names()"
   ]
  },
  {
   "cell_type": "code",
   "execution_count": 47,
   "metadata": {},
   "outputs": [],
   "source": [
    "# Create lists for vocab and idfs by emotion.\n",
    "all_tfidf_words = []\n",
    "all_tfidf_idfs = []\n",
    "for m in range(7):\n",
    "    feature_index = tfidf_matrix[m,:].nonzero()[1]\n",
    "    tfidf_scores = zip(feature_index, [tfidf_matrix[m, x] for x in feature_index])\n",
    "    \n",
    "    words_idf = []\n",
    "    tfidf_words = []\n",
    "    tfidf_idfs = []\n",
    "    for w, s in [(feature_names[i], s) for (i, s) in tfidf_scores]:\n",
    "        if ' ' not in w:\n",
    "            tfidf_words.append(w)\n",
    "            tfidf_idfs.append(s)\n",
    "            words_idf.append((w,s))\n",
    "    all_tfidf_words.append(tfidf_words)\n",
    "    all_tfidf_idfs.append(tfidf_idfs)"
   ]
  },
  {
   "cell_type": "code",
   "execution_count": 48,
   "metadata": {},
   "outputs": [],
   "source": [
    "nlp = spacy.load(\"en\")\n",
    "\n",
    "# Find mean, max, min sentence vectors by averaging word vectors.\n",
    "num_sentences = len(sentences)\n",
    "len_vec = 384\n",
    "means = np.zeros((num_sentences, len_vec))\n",
    "maxs = np.zeros((num_sentences, len_vec))\n",
    "mins = np.zeros((num_sentences, len_vec))\n",
    "f1 = open(\"word_vec_tfidf.txt\", \"w+\")\n",
    "for j in range(len(sentences)):\n",
    "    # Find emotion of current sentence.\n",
    "    if emotion[j] == 'anger':\n",
    "        emo_idx = 0\n",
    "    elif emotion[j] == 'disgust':\n",
    "        emo_idx = 1\n",
    "    elif emotion[j] == 'fear':\n",
    "        emo_idx = 2\n",
    "    elif emotion[j] == 'guilt':\n",
    "        emo_idx = 3\n",
    "    elif emotion[j] == 'joy':\n",
    "        emo_idx = 4\n",
    "    elif emotion[j] == 'sadness':\n",
    "        emo_idx = 5\n",
    "    elif emotion[j] == 'shame':\n",
    "        emo_idx = 6\n",
    "    else:\n",
    "        print('error', emotion[j])\n",
    "    \n",
    "    # Split sentences into tokens.\n",
    "    sentences_tokens = nlp(sentences[j])\n",
    "    word_vectors = np.zeros((200,len_vec))\n",
    "    \n",
    "    # Add relevant word vectors.\n",
    "    counter = 0 # For counting number of relevant words\n",
    "    for k in range(len(sentences_tokens)):\n",
    "        word = sentences_tokens[k]\n",
    "        if word.has_vector and (str(word) in all_tfidf_words[emo_idx]):\n",
    "            word_idx = (all_tfidf_words[emo_idx]).index(str(word))\n",
    "            # Multiply vector by tfidf.\n",
    "            word_vectors[k,:] = word.vector * all_tfidf_idfs[emo_idx][word_idx]\n",
    "            counter += 1\n",
    "            \n",
    "    # If none of the words are relevant\n",
    "    if counter == 0:\n",
    "        means[j,:] = np.sum(word_vectors, axis=0) \n",
    "    else:\n",
    "        means[j,:] = np.sum(word_vectors, axis=0) / float(counter)\n",
    "    maxs[j,:] = np.max(word_vectors, axis=0)\n",
    "    mins[j,:] = np.min(word_vectors, axis=0)\n",
    "\n",
    "    # Write mean of vectors to file.\n",
    "    f1.write('[')\n",
    "    for jj in range(len(means[j])):\n",
    "        f1.write(str(means[j][jj]) + ', ')\n",
    "    f1.write(emotion[j] + '],\\n')\n",
    "f1.close()"
   ]
  },
  {
   "cell_type": "code",
   "execution_count": 55,
   "metadata": {},
   "outputs": [],
   "source": [
    "# Run PCA.\n",
    "pca = PCA(n_components=2)\n",
    "sentences_vecs_transformed = pca.fit_transform(means)\n",
    "sentences_vecs_transformed1 = np.c_[emotion, sentences_vecs_transformed]"
   ]
  },
  {
   "cell_type": "code",
   "execution_count": 56,
   "metadata": {},
   "outputs": [
    {
     "data": {
      "image/png": "[encoded data removed]",
      "text/plain": [
       "<Figure size 432x288 with 1 Axes>"
      ]
     },
     "metadata": {
      "needs_background": "light"
     },
     "output_type": "display_data"
    }
   ],
   "source": [
    "# Plot 50 points from each emotion.\n",
    "# anger 0\n",
    "# disgust 1096\n",
    "# fear 2192\n",
    "# guilt 3287\n",
    "# joy 4380\n",
    "# sadness 5474\n",
    "# shame 6570\n",
    "plt.plot(sentences_vecs_transformed[:50,0], sentences_vecs_transformed[:50,1], 'r.') # anger\n",
    "plt.plot(sentences_vecs_transformed[1100:1150,0], sentences_vecs_transformed[1100:1150,1], 'b.') # disgust\n",
    "plt.plot(sentences_vecs_transformed[2200:2250,0], sentences_vecs_transformed[2200:2250,1], 'g.') # fear\n",
    "plt.plot(sentences_vecs_transformed[3300:3350,0], sentences_vecs_transformed[3300:3350,1], 'k.') # guilt\n",
    "plt.plot(sentences_vecs_transformed[4400:4450,0], sentences_vecs_transformed[4400:4450,1], 'c.') # joy\n",
    "plt.plot(sentences_vecs_transformed[5500:5550,0], sentences_vecs_transformed[5500:5550,1], 'y.') # sadness\n",
    "plt.plot(sentences_vecs_transformed[7000:7050,0], sentences_vecs_transformed[7000:7050,1], 'm.') # shame\n",
    "plt.show()"
   ]
  },
  {
   "cell_type": "code",
   "execution_count": null,
   "metadata": {},
   "outputs": [],
   "source": []
  }
 ],
 "metadata": {
  "kernelspec": {
   "display_name": "Python 3",
   "language": "python",
   "name": "python3"
  },
  "language_info": {
   "codemirror_mode": {
    "name": "ipython",
    "version": 3
   },
   "file_extension": ".py",
   "mimetype": "text/x-python",
   "name": "python",
   "nbconvert_exporter": "python",
   "pygments_lexer": "ipython3",
   "version": "3.6.8"
  }
 },
 "nbformat": 4,
 "nbformat_minor": 2
}
