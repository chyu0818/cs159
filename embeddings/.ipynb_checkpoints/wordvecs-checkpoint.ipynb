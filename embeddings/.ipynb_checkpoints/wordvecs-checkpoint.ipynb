{
 "cells": [
  {
   "cell_type": "code",
   "execution_count": 3,
   "metadata": {},
   "outputs": [],
   "source": [
    "import numpy as np\n",
    "import spacy\n",
    "from sklearn.decomposition import PCA\n",
    "import matplotlib.pyplot as plt"
   ]
  },
  {
   "cell_type": "code",
   "execution_count": 10,
   "metadata": {},
   "outputs": [
    {
     "name": "stdout",
     "output_type": "stream",
     "text": [
      "['anger\\t\"When a boy tried to fool me so he would be OK trying to show me that he is a gook boy.\"\\n', 'anger\\t\"I felt anger when I saw that I was being misleaded by my boyfriend, he went out with other girls. I felt anger for his falsity.\"\\n', 'anger\\t\"Once a friend had pushed me and I had fallen on to a window which then broke.  I was taken to the principal\\'s office and he accused me of having broken the window.\"\\n']\n"
     ]
    }
   ],
   "source": [
    "f = open('../DATA1.txt', encoding = \"ISO-8859-1\")\n",
    "x = f.readlines()\n",
    "f.close()\n",
    "print(x)"
   ]
  },
  {
   "cell_type": "code",
   "execution_count": 13,
   "metadata": {},
   "outputs": [
    {
     "name": "stdout",
     "output_type": "stream",
     "text": [
      "['anger', 'anger', 'anger']\n",
      "['When a boy tried to fool me so he would be OK trying to show me that he is a gook boy.', 'I felt anger when I saw that I was being misleaded by my boyfriend, he went out with other girls. I felt anger for his falsity.', \"Once a friend had pushed me and I had fallen on to a window which then broke.  I was taken to the principal's office and he accused me of having broken the window.\"]\n"
     ]
    }
   ],
   "source": [
    "emotion = []\n",
    "sentences = []\n",
    "for line in x:\n",
    "    slashIdx = line.index('\\t')\n",
    "    emotion.append(line[0:slashIdx])\n",
    "    sentences.append(line[slashIdx+2:len(line)-2])\n",
    "print(emotion)\n",
    "print(sentences)"
   ]
  },
  {
   "cell_type": "code",
   "execution_count": 22,
   "metadata": {},
   "outputs": [
    {
     "name": "stdout",
     "output_type": "stream",
     "text": [
      "[array([ 0.0427248 ,  0.01632941,  0.03342114, -0.03388794,  0.04494085,\n",
      "        0.04281472,  0.0144883 ,  0.01354997,  0.02868265,  0.09825007,\n",
      "        0.02792337,  0.04804808,  0.04385362,  0.06459467,  0.01038192,\n",
      "        0.00918449,  0.02434936,  0.00666258,  0.05496245,  0.02833442,\n",
      "        0.00996621,  0.03013965,  0.02919398], dtype=float32), array([ 0.07150558,  0.00359531,  0.03749051,  0.03305791,  0.0736682 ,\n",
      "        0.06894096,  0.00682083,  0.0382883 ,  0.05809674,  0.01056416,\n",
      "       -0.01599202, -0.0138783 ,  0.01678443, -0.00023977,  0.00550947,\n",
      "        0.07651988,  0.02053255,  0.02484412,  0.0253724 ,  0.00198833,\n",
      "        0.05802841,  0.04604796,  0.06202261,  0.0123385 ,  0.04266588,\n",
      "        0.02918929,  0.03506269,  0.03727754,  0.02734971], dtype=float32), array([-0.01091411, -0.01892289,  0.04171701,  0.03206218, -0.02886814,\n",
      "       -0.00705884,  0.03740666,  0.08021896,  0.04020278, -0.00492248,\n",
      "       -0.00196998,  0.05191883, -0.00651922,  0.03247158,  0.03653554,\n",
      "        0.03589442,  0.0046718 ,  0.00833156,  0.03908619,  0.08363524,\n",
      "        0.04111369, -0.01806284,  0.02299911, -0.02002003, -0.00421487,\n",
      "        0.00167212,  0.04303642,  0.02010156,  0.03673901,  0.01178599,\n",
      "       -0.00629447,  0.05076218,  0.00898915,  0.01687158, -0.01505344,\n",
      "        0.02562172,  0.05087366], dtype=float32)]\n"
     ]
    }
   ],
   "source": [
    "nlp = spacy.load(\"en\")\n",
    "\n",
    "means = []\n",
    "for i in range(len(sentences)):\n",
    "    sentences_tokens = nlp(sentences[i])\n",
    "    sentences_vectors = np.vstack([word.vector for word in sentences_tokens if word.has_vector])\n",
    "    means.append(np.mean(sentences_vectors, axis=1))"
   ]
  },
  {
   "cell_type": "code",
   "execution_count": null,
   "metadata": {},
   "outputs": [],
   "source": []
  }
 ],
 "metadata": {
  "kernelspec": {
   "display_name": "Python 3",
   "language": "python",
   "name": "python3"
  },
  "language_info": {
   "codemirror_mode": {
    "name": "ipython",
    "version": 3
   },
   "file_extension": ".py",
   "mimetype": "text/x-python",
   "name": "python",
   "nbconvert_exporter": "python",
   "pygments_lexer": "ipython3",
   "version": "3.6.8"
  }
 },
 "nbformat": 4,
 "nbformat_minor": 2
}
